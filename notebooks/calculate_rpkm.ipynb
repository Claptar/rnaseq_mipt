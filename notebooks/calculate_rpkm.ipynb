{
 "cells": [
  {
   "cell_type": "markdown",
   "metadata": {},
   "source": [
    "# Prepare the environment"
   ]
  },
  {
   "cell_type": "markdown",
   "metadata": {},
   "source": [
    "## Import Libraries"
   ]
  },
  {
   "cell_type": "code",
   "execution_count": 81,
   "metadata": {},
   "outputs": [],
   "source": [
    "import pandas as pd\n",
    "import numpy as np\n",
    "import matplotlib.pyplot as plt\n",
    "import seaborn as sns\n",
    "import glob"
   ]
  },
  {
   "cell_type": "markdown",
   "metadata": {},
   "source": [
    "## Global variables"
   ]
  },
  {
   "cell_type": "markdown",
   "metadata": {},
   "source": [
    "## Load files"
   ]
  },
  {
   "cell_type": "markdown",
   "metadata": {},
   "source": [
    "###  GTF file"
   ]
  },
  {
   "cell_type": "markdown",
   "metadata": {},
   "source": [
    "Подгрузим gtf-файл. Для этого нам будет необходимо распарсить последний столбец"
   ]
  },
  {
   "cell_type": "code",
   "execution_count": 85,
   "metadata": {},
   "outputs": [],
   "source": [
    "def parse_info(column):\n",
    "    column = column.replace('\"', '').split('; ')\n",
    "    column_dict = dict(map(lambda x: x.split(' ')[:2], column))\n",
    "    column_list_filt = [column_dict.get(key, 'NaN') for key in ['gene_id', 'exon_number', 'gene_name', 'exon_id']]\n",
    "    return column_list_filt"
   ]
  },
  {
   "cell_type": "code",
   "execution_count": 86,
   "metadata": {},
   "outputs": [
    {
     "data": {
      "text/html": [
       "<div>\n",
       "<style scoped>\n",
       "    .dataframe tbody tr th:only-of-type {\n",
       "        vertical-align: middle;\n",
       "    }\n",
       "\n",
       "    .dataframe tbody tr th {\n",
       "        vertical-align: top;\n",
       "    }\n",
       "\n",
       "    .dataframe thead th {\n",
       "        text-align: right;\n",
       "    }\n",
       "</style>\n",
       "<table border=\"1\" class=\"dataframe\">\n",
       "  <thead>\n",
       "    <tr style=\"text-align: right;\">\n",
       "      <th></th>\n",
       "      <th>chr_ind</th>\n",
       "      <th>type</th>\n",
       "      <th>chrstart</th>\n",
       "      <th>chrend</th>\n",
       "      <th>Info</th>\n",
       "      <th>gene_id</th>\n",
       "      <th>exon_number</th>\n",
       "      <th>gene_name</th>\n",
       "      <th>exon_id</th>\n",
       "    </tr>\n",
       "  </thead>\n",
       "  <tbody>\n",
       "    <tr>\n",
       "      <th>2</th>\n",
       "      <td>1</td>\n",
       "      <td>exon</td>\n",
       "      <td>108344807</td>\n",
       "      <td>108347562</td>\n",
       "      <td>gene_id \"ENSMUSG00000104478\"; gene_version \"2\"...</td>\n",
       "      <td>ENSMUSG00000104478</td>\n",
       "      <td>1</td>\n",
       "      <td>Gm38212</td>\n",
       "      <td>ENSMUSE00001337335</td>\n",
       "    </tr>\n",
       "    <tr>\n",
       "      <th>5</th>\n",
       "      <td>1</td>\n",
       "      <td>exon</td>\n",
       "      <td>6980784</td>\n",
       "      <td>6981446</td>\n",
       "      <td>gene_id \"ENSMUSG00000104385\"; gene_version \"2\"...</td>\n",
       "      <td>ENSMUSG00000104385</td>\n",
       "      <td>1</td>\n",
       "      <td>Gm7449</td>\n",
       "      <td>ENSMUSE00001339893</td>\n",
       "    </tr>\n",
       "    <tr>\n",
       "      <th>8</th>\n",
       "      <td>1</td>\n",
       "      <td>exon</td>\n",
       "      <td>108540067</td>\n",
       "      <td>108540244</td>\n",
       "      <td>gene_id \"ENSMUSG00000101231\"; gene_version \"2\"...</td>\n",
       "      <td>ENSMUSG00000101231</td>\n",
       "      <td>1</td>\n",
       "      <td>Gm28283</td>\n",
       "      <td>ENSMUSE00001325295</td>\n",
       "    </tr>\n",
       "    <tr>\n",
       "      <th>11</th>\n",
       "      <td>1</td>\n",
       "      <td>exon</td>\n",
       "      <td>6986783</td>\n",
       "      <td>6987219</td>\n",
       "      <td>gene_id \"ENSMUSG00000102135\"; gene_version \"2\"...</td>\n",
       "      <td>ENSMUSG00000102135</td>\n",
       "      <td>1</td>\n",
       "      <td>Gm37108</td>\n",
       "      <td>ENSMUSE00001339810</td>\n",
       "    </tr>\n",
       "    <tr>\n",
       "      <th>12</th>\n",
       "      <td>1</td>\n",
       "      <td>exon</td>\n",
       "      <td>6993624</td>\n",
       "      <td>6993812</td>\n",
       "      <td>gene_id \"ENSMUSG00000102135\"; gene_version \"2\"...</td>\n",
       "      <td>ENSMUSG00000102135</td>\n",
       "      <td>2</td>\n",
       "      <td>Gm37108</td>\n",
       "      <td>ENSMUSE00001343179</td>\n",
       "    </tr>\n",
       "  </tbody>\n",
       "</table>\n",
       "</div>"
      ],
      "text/plain": [
       "   chr_ind  type   chrstart     chrend  \\\n",
       "2        1  exon  108344807  108347562   \n",
       "5        1  exon    6980784    6981446   \n",
       "8        1  exon  108540067  108540244   \n",
       "11       1  exon    6986783    6987219   \n",
       "12       1  exon    6993624    6993812   \n",
       "\n",
       "                                                 Info             gene_id  \\\n",
       "2   gene_id \"ENSMUSG00000104478\"; gene_version \"2\"...  ENSMUSG00000104478   \n",
       "5   gene_id \"ENSMUSG00000104385\"; gene_version \"2\"...  ENSMUSG00000104385   \n",
       "8   gene_id \"ENSMUSG00000101231\"; gene_version \"2\"...  ENSMUSG00000101231   \n",
       "11  gene_id \"ENSMUSG00000102135\"; gene_version \"2\"...  ENSMUSG00000102135   \n",
       "12  gene_id \"ENSMUSG00000102135\"; gene_version \"2\"...  ENSMUSG00000102135   \n",
       "\n",
       "   exon_number gene_name             exon_id  \n",
       "2            1   Gm38212  ENSMUSE00001337335  \n",
       "5            1    Gm7449  ENSMUSE00001339893  \n",
       "8            1   Gm28283  ENSMUSE00001325295  \n",
       "11           1   Gm37108  ENSMUSE00001339810  \n",
       "12           2   Gm37108  ENSMUSE00001343179  "
      ]
     },
     "execution_count": 86,
     "metadata": {},
     "output_type": "execute_result"
    }
   ],
   "source": [
    "gtf = pd.read_csv('../references/genome.gtf', sep='\\t', header=None, skiprows=5, dtype='str', usecols=[0, 2, 3, 4, 8])\n",
    "gtf.columns = ['chr_ind', 'type', 'chrstart', 'chrend', 'Info']\n",
    "gtf = gtf[gtf.type == 'exon'].copy()\n",
    "gtf[['gene_id', 'exon_number', 'gene_name', 'exon_id']] = gtf.Info.map(parse_info).to_list()\n",
    "gtf.head()"
   ]
  },
  {
   "cell_type": "markdown",
   "metadata": {},
   "source": [
    "### Counts"
   ]
  },
  {
   "cell_type": "code",
   "execution_count": 84,
   "metadata": {},
   "outputs": [
    {
     "data": {
      "text/html": [
       "<div>\n",
       "<style scoped>\n",
       "    .dataframe tbody tr th:only-of-type {\n",
       "        vertical-align: middle;\n",
       "    }\n",
       "\n",
       "    .dataframe tbody tr th {\n",
       "        vertical-align: top;\n",
       "    }\n",
       "\n",
       "    .dataframe thead th {\n",
       "        text-align: right;\n",
       "    }\n",
       "</style>\n",
       "<table border=\"1\" class=\"dataframe\">\n",
       "  <thead>\n",
       "    <tr style=\"text-align: right;\">\n",
       "      <th></th>\n",
       "      <th>SRR3414631</th>\n",
       "      <th>SRR3414630</th>\n",
       "      <th>SRR3414636</th>\n",
       "      <th>SRR3414637</th>\n",
       "      <th>SRR3414635</th>\n",
       "      <th>SRR3414629</th>\n",
       "    </tr>\n",
       "    <tr>\n",
       "      <th>gene_id</th>\n",
       "      <th></th>\n",
       "      <th></th>\n",
       "      <th></th>\n",
       "      <th></th>\n",
       "      <th></th>\n",
       "      <th></th>\n",
       "    </tr>\n",
       "  </thead>\n",
       "  <tbody>\n",
       "    <tr>\n",
       "      <th>ENSMUSG00000000001</th>\n",
       "      <td>5757</td>\n",
       "      <td>3963</td>\n",
       "      <td>3532</td>\n",
       "      <td>4078</td>\n",
       "      <td>3466</td>\n",
       "      <td>4507</td>\n",
       "    </tr>\n",
       "    <tr>\n",
       "      <th>ENSMUSG00000000003</th>\n",
       "      <td>0</td>\n",
       "      <td>0</td>\n",
       "      <td>0</td>\n",
       "      <td>0</td>\n",
       "      <td>0</td>\n",
       "      <td>0</td>\n",
       "    </tr>\n",
       "    <tr>\n",
       "      <th>ENSMUSG00000000028</th>\n",
       "      <td>472</td>\n",
       "      <td>275</td>\n",
       "      <td>137</td>\n",
       "      <td>152</td>\n",
       "      <td>152</td>\n",
       "      <td>348</td>\n",
       "    </tr>\n",
       "    <tr>\n",
       "      <th>ENSMUSG00000000031</th>\n",
       "      <td>65189</td>\n",
       "      <td>33334</td>\n",
       "      <td>48392</td>\n",
       "      <td>56187</td>\n",
       "      <td>55720</td>\n",
       "      <td>64723</td>\n",
       "    </tr>\n",
       "    <tr>\n",
       "      <th>ENSMUSG00000000037</th>\n",
       "      <td>90</td>\n",
       "      <td>71</td>\n",
       "      <td>45</td>\n",
       "      <td>54</td>\n",
       "      <td>43</td>\n",
       "      <td>81</td>\n",
       "    </tr>\n",
       "  </tbody>\n",
       "</table>\n",
       "</div>"
      ],
      "text/plain": [
       "                    SRR3414631  SRR3414630  SRR3414636  SRR3414637  \\\n",
       "gene_id                                                              \n",
       "ENSMUSG00000000001        5757        3963        3532        4078   \n",
       "ENSMUSG00000000003           0           0           0           0   \n",
       "ENSMUSG00000000028         472         275         137         152   \n",
       "ENSMUSG00000000031       65189       33334       48392       56187   \n",
       "ENSMUSG00000000037          90          71          45          54   \n",
       "\n",
       "                    SRR3414635  SRR3414629  \n",
       "gene_id                                     \n",
       "ENSMUSG00000000001        3466        4507  \n",
       "ENSMUSG00000000003           0           0  \n",
       "ENSMUSG00000000028         152         348  \n",
       "ENSMUSG00000000031       55720       64723  \n",
       "ENSMUSG00000000037          43          81  "
      ]
     },
     "execution_count": 84,
     "metadata": {},
     "output_type": "execute_result"
    }
   ],
   "source": [
    "file_list = []\n",
    "columns = []\n",
    "for file in glob.glob('../countsHtseq/*'):\n",
    "    sample_name = file.split('/')[-1].split('_')[0]\n",
    "    df = pd.read_csv(file, sep='\\t', index_col=0, header=None)\n",
    "    file_list.append(df)\n",
    "    columns.append(sample_name)\n",
    "\n",
    "counts = pd.concat(file_list, axis=1)\n",
    "counts.columns = columns\n",
    "counts.index.name = 'gene_id'\n",
    "counts.head()"
   ]
  },
  {
   "cell_type": "markdown",
   "metadata": {},
   "source": [
    "# RPKM"
   ]
  },
  {
   "cell_type": "markdown",
   "metadata": {},
   "source": [
    "Посчитаем длину экзонов для каждого гена"
   ]
  },
  {
   "cell_type": "code",
   "execution_count": 79,
   "metadata": {},
   "outputs": [
    {
     "data": {
      "text/html": [
       "<div>\n",
       "<style scoped>\n",
       "    .dataframe tbody tr th:only-of-type {\n",
       "        vertical-align: middle;\n",
       "    }\n",
       "\n",
       "    .dataframe tbody tr th {\n",
       "        vertical-align: top;\n",
       "    }\n",
       "\n",
       "    .dataframe thead th {\n",
       "        text-align: right;\n",
       "    }\n",
       "</style>\n",
       "<table border=\"1\" class=\"dataframe\">\n",
       "  <thead>\n",
       "    <tr style=\"text-align: right;\">\n",
       "      <th></th>\n",
       "      <th>length</th>\n",
       "    </tr>\n",
       "    <tr>\n",
       "      <th>gene_id</th>\n",
       "      <th></th>\n",
       "    </tr>\n",
       "  </thead>\n",
       "  <tbody>\n",
       "    <tr>\n",
       "      <th>ENSMUSG00000000001</th>\n",
       "      <td>3253</td>\n",
       "    </tr>\n",
       "    <tr>\n",
       "      <th>ENSMUSG00000000003</th>\n",
       "      <td>1586</td>\n",
       "    </tr>\n",
       "    <tr>\n",
       "      <th>ENSMUSG00000000028</th>\n",
       "      <td>6162</td>\n",
       "    </tr>\n",
       "    <tr>\n",
       "      <th>ENSMUSG00000000031</th>\n",
       "      <td>32498</td>\n",
       "    </tr>\n",
       "    <tr>\n",
       "      <th>ENSMUSG00000000037</th>\n",
       "      <td>26065</td>\n",
       "    </tr>\n",
       "  </tbody>\n",
       "</table>\n",
       "</div>"
      ],
      "text/plain": [
       "                    length\n",
       "gene_id                   \n",
       "ENSMUSG00000000001    3253\n",
       "ENSMUSG00000000003    1586\n",
       "ENSMUSG00000000028    6162\n",
       "ENSMUSG00000000031   32498\n",
       "ENSMUSG00000000037   26065"
      ]
     },
     "execution_count": 79,
     "metadata": {},
     "output_type": "execute_result"
    }
   ],
   "source": [
    "gtf['length'] = gtf['chrend'].astype(int) - gtf['chrstart'].astype(int)\n",
    "gene_length = gtf[['length', 'gene_id']].groupby('gene_id').sum()\n",
    "gene_length.head()"
   ]
  },
  {
   "cell_type": "markdown",
   "metadata": {},
   "source": [
    "Вычислим RPKM:\n",
    "$$\n",
    "RPKM_i = \\frac{count_i / length_i}{\\sum_jcount_j} * 10^9\n",
    "$$"
   ]
  },
  {
   "cell_type": "code",
   "execution_count": 97,
   "metadata": {},
   "outputs": [],
   "source": [
    "# функция для подсчёта rpkm\n",
    "def rpkm_calc(sample_counts):\n",
    "    return sample_counts / (gene_length.length.values * sample_counts.sum()) * 1e9"
   ]
  },
  {
   "cell_type": "code",
   "execution_count": null,
   "metadata": {},
   "outputs": [],
   "source": [
    "rpkm_norm"
   ]
  },
  {
   "cell_type": "code",
   "execution_count": 100,
   "metadata": {},
   "outputs": [
    {
     "data": {
      "text/html": [
       "<div>\n",
       "<style scoped>\n",
       "    .dataframe tbody tr th:only-of-type {\n",
       "        vertical-align: middle;\n",
       "    }\n",
       "\n",
       "    .dataframe tbody tr th {\n",
       "        vertical-align: top;\n",
       "    }\n",
       "\n",
       "    .dataframe thead th {\n",
       "        text-align: right;\n",
       "    }\n",
       "</style>\n",
       "<table border=\"1\" class=\"dataframe\">\n",
       "  <thead>\n",
       "    <tr style=\"text-align: right;\">\n",
       "      <th></th>\n",
       "      <th>SRR3414631</th>\n",
       "      <th>SRR3414630</th>\n",
       "      <th>SRR3414636</th>\n",
       "      <th>SRR3414637</th>\n",
       "      <th>SRR3414635</th>\n",
       "      <th>SRR3414629</th>\n",
       "    </tr>\n",
       "    <tr>\n",
       "      <th>gene_id</th>\n",
       "      <th></th>\n",
       "      <th></th>\n",
       "      <th></th>\n",
       "      <th></th>\n",
       "      <th></th>\n",
       "      <th></th>\n",
       "    </tr>\n",
       "  </thead>\n",
       "  <tbody>\n",
       "    <tr>\n",
       "      <th>ENSMUSG00000000001</th>\n",
       "      <td>94.946917</td>\n",
       "      <td>105.017739</td>\n",
       "      <td>68.010029</td>\n",
       "      <td>78.656989</td>\n",
       "      <td>64.631666</td>\n",
       "      <td>85.283006</td>\n",
       "    </tr>\n",
       "    <tr>\n",
       "      <th>ENSMUSG00000000003</th>\n",
       "      <td>0.000000</td>\n",
       "      <td>0.000000</td>\n",
       "      <td>0.000000</td>\n",
       "      <td>0.000000</td>\n",
       "      <td>0.000000</td>\n",
       "      <td>0.000000</td>\n",
       "    </tr>\n",
       "    <tr>\n",
       "      <th>ENSMUSG00000000028</th>\n",
       "      <td>4.109500</td>\n",
       "      <td>3.847102</td>\n",
       "      <td>1.392628</td>\n",
       "      <td>1.547733</td>\n",
       "      <td>1.496314</td>\n",
       "      <td>3.476294</td>\n",
       "    </tr>\n",
       "    <tr>\n",
       "      <th>ENSMUSG00000000031</th>\n",
       "      <td>107.618364</td>\n",
       "      <td>88.420599</td>\n",
       "      <td>93.272424</td>\n",
       "      <td>108.480923</td>\n",
       "      <td>104.005265</td>\n",
       "      <td>122.591684</td>\n",
       "    </tr>\n",
       "    <tr>\n",
       "      <th>ENSMUSG00000000037</th>\n",
       "      <td>0.185248</td>\n",
       "      <td>0.234814</td>\n",
       "      <td>0.108141</td>\n",
       "      <td>0.129990</td>\n",
       "      <td>0.100072</td>\n",
       "      <td>0.191287</td>\n",
       "    </tr>\n",
       "  </tbody>\n",
       "</table>\n",
       "</div>"
      ],
      "text/plain": [
       "                    SRR3414631  SRR3414630  SRR3414636  SRR3414637  \\\n",
       "gene_id                                                              \n",
       "ENSMUSG00000000001   94.946917  105.017739   68.010029   78.656989   \n",
       "ENSMUSG00000000003    0.000000    0.000000    0.000000    0.000000   \n",
       "ENSMUSG00000000028    4.109500    3.847102    1.392628    1.547733   \n",
       "ENSMUSG00000000031  107.618364   88.420599   93.272424  108.480923   \n",
       "ENSMUSG00000000037    0.185248    0.234814    0.108141    0.129990   \n",
       "\n",
       "                    SRR3414635  SRR3414629  \n",
       "gene_id                                     \n",
       "ENSMUSG00000000001   64.631666   85.283006  \n",
       "ENSMUSG00000000003    0.000000    0.000000  \n",
       "ENSMUSG00000000028    1.496314    3.476294  \n",
       "ENSMUSG00000000031  104.005265  122.591684  \n",
       "ENSMUSG00000000037    0.100072    0.191287  "
      ]
     },
     "execution_count": 100,
     "metadata": {},
     "output_type": "execute_result"
    }
   ],
   "source": [
    "# убедимся что порядок генов в двух датафреймов совпадает\n",
    "counts = counts.loc[gene_length.index]\n",
    "rpkm_norm = counts.apply(rpkm_calc)\n",
    "rpkm_norm.head()"
   ]
  },
  {
   "cell_type": "markdown",
   "metadata": {},
   "source": [
    "Заменим названия генов для удобства"
   ]
  },
  {
   "cell_type": "code",
   "execution_count": 106,
   "metadata": {},
   "outputs": [
    {
     "data": {
      "text/html": [
       "<div>\n",
       "<style scoped>\n",
       "    .dataframe tbody tr th:only-of-type {\n",
       "        vertical-align: middle;\n",
       "    }\n",
       "\n",
       "    .dataframe tbody tr th {\n",
       "        vertical-align: top;\n",
       "    }\n",
       "\n",
       "    .dataframe thead th {\n",
       "        text-align: right;\n",
       "    }\n",
       "</style>\n",
       "<table border=\"1\" class=\"dataframe\">\n",
       "  <thead>\n",
       "    <tr style=\"text-align: right;\">\n",
       "      <th></th>\n",
       "      <th>SRR3414631</th>\n",
       "      <th>SRR3414630</th>\n",
       "      <th>SRR3414636</th>\n",
       "      <th>SRR3414637</th>\n",
       "      <th>SRR3414635</th>\n",
       "      <th>SRR3414629</th>\n",
       "    </tr>\n",
       "    <tr>\n",
       "      <th>gene_id</th>\n",
       "      <th></th>\n",
       "      <th></th>\n",
       "      <th></th>\n",
       "      <th></th>\n",
       "      <th></th>\n",
       "      <th></th>\n",
       "    </tr>\n",
       "  </thead>\n",
       "  <tbody>\n",
       "    <tr>\n",
       "      <th>Gnai3</th>\n",
       "      <td>94.946917</td>\n",
       "      <td>105.017739</td>\n",
       "      <td>68.010029</td>\n",
       "      <td>78.656989</td>\n",
       "      <td>64.631666</td>\n",
       "      <td>85.283006</td>\n",
       "    </tr>\n",
       "    <tr>\n",
       "      <th>Pbsn</th>\n",
       "      <td>0.000000</td>\n",
       "      <td>0.000000</td>\n",
       "      <td>0.000000</td>\n",
       "      <td>0.000000</td>\n",
       "      <td>0.000000</td>\n",
       "      <td>0.000000</td>\n",
       "    </tr>\n",
       "    <tr>\n",
       "      <th>Cdc45</th>\n",
       "      <td>4.109500</td>\n",
       "      <td>3.847102</td>\n",
       "      <td>1.392628</td>\n",
       "      <td>1.547733</td>\n",
       "      <td>1.496314</td>\n",
       "      <td>3.476294</td>\n",
       "    </tr>\n",
       "    <tr>\n",
       "      <th>H19</th>\n",
       "      <td>107.618364</td>\n",
       "      <td>88.420599</td>\n",
       "      <td>93.272424</td>\n",
       "      <td>108.480923</td>\n",
       "      <td>104.005265</td>\n",
       "      <td>122.591684</td>\n",
       "    </tr>\n",
       "    <tr>\n",
       "      <th>Scml2</th>\n",
       "      <td>0.185248</td>\n",
       "      <td>0.234814</td>\n",
       "      <td>0.108141</td>\n",
       "      <td>0.129990</td>\n",
       "      <td>0.100072</td>\n",
       "      <td>0.191287</td>\n",
       "    </tr>\n",
       "  </tbody>\n",
       "</table>\n",
       "</div>"
      ],
      "text/plain": [
       "         SRR3414631  SRR3414630  SRR3414636  SRR3414637  SRR3414635  \\\n",
       "gene_id                                                               \n",
       "Gnai3     94.946917  105.017739   68.010029   78.656989   64.631666   \n",
       "Pbsn       0.000000    0.000000    0.000000    0.000000    0.000000   \n",
       "Cdc45      4.109500    3.847102    1.392628    1.547733    1.496314   \n",
       "H19      107.618364   88.420599   93.272424  108.480923  104.005265   \n",
       "Scml2      0.185248    0.234814    0.108141    0.129990    0.100072   \n",
       "\n",
       "         SRR3414629  \n",
       "gene_id              \n",
       "Gnai3     85.283006  \n",
       "Pbsn       0.000000  \n",
       "Cdc45      3.476294  \n",
       "H19      122.591684  \n",
       "Scml2      0.191287  "
      ]
     },
     "execution_count": 106,
     "metadata": {},
     "output_type": "execute_result"
    }
   ],
   "source": [
    "# create mapping dict\n",
    "id_to_name = gtf[['gene_id', 'gene_name']].set_index('gene_id').gene_name.dropna().to_dict()\n",
    "\n",
    "# replace id to names\n",
    "rpkm_norm.index = rpkm_norm.index.map(lambda x: id_to_name.get(x, x))\n",
    "rpkm_norm.head()"
   ]
  },
  {
   "cell_type": "markdown",
   "metadata": {},
   "source": [
    "Посмотрим на ген **Wnt4**"
   ]
  },
  {
   "cell_type": "code",
   "execution_count": 126,
   "metadata": {},
   "outputs": [
    {
     "data": {
      "image/png": "[encoded data removed]",
      "text/plain": [
       "<Figure size 640x480 with 1 Axes>"
      ]
     },
     "metadata": {},
     "output_type": "display_data"
    }
   ],
   "source": [
    "plot_df = rpkm_norm.loc['Wnt4'].sort_index().to_frame().reset_index()\n",
    "plot_df['condition'] = ['reprog', 'reprog', 'reprog', 'ctrl', 'ctrl', 'ctrl']\n",
    "ax = sns.scatterplot(plot_df, x='index', y='Wnt4', hue='condition')\n",
    "ax.legend(fontsize=10, loc=\"upper left\", bbox_to_anchor=(1, 1))\n",
    "ax.set_xlabel('')\n",
    "ax.set_ylabel('RPKM')\n",
    "ax.set_title('Wnt4')\n",
    "plt.xticks(rotation=45);"
   ]
  }
 ],
 "metadata": {
  "kernelspec": {
   "display_name": "preprocess",
   "language": "python",
   "name": "python3"
  },
  "language_info": {
   "codemirror_mode": {
    "name": "ipython",
    "version": 3
   },
   "file_extension": ".py",
   "mimetype": "text/x-python",
   "name": "python",
   "nbconvert_exporter": "python",
   "pygments_lexer": "ipython3",
   "version": "3.11.6"
  }
 },
 "nbformat": 4,
 "nbformat_minor": 2
}
