{
  "nbformat": 4,
  "nbformat_minor": 0,
  "metadata": {
    "colab": {
      "provenance": [],
      "include_colab_link": true
    },
    "kernelspec": {
      "name": "ir",
      "display_name": "R"
    },
    "language_info": {
      "name": "R"
    }
  },
  "cells": [
    {
      "cell_type": "markdown",
      "metadata": {
        "id": "view-in-github",
        "colab_type": "text"
      },
      "source": [
        "<a href=\"https://colab.research.google.com/github/Claptar/rnaseq_mipt/blob/main/notebooks/differential_expression.ipynb\" target=\"_parent\"><img src=\"https://colab.research.google.com/assets/colab-badge.svg\" alt=\"Open In Colab\"/></a>"
      ]
    },
    {
      "cell_type": "markdown",
      "source": [
        "# Подготовка окружения"
      ],
      "metadata": {
        "id": "A1px3hX9xQ4b"
      }
    },
    {
      "cell_type": "markdown",
      "source": [
        "## Скачаем необходимые библиотеки"
      ],
      "metadata": {
        "id": "SziMjkDQxU5j"
      }
    },
    {
      "cell_type": "code",
      "execution_count": 1,
      "metadata": {
        "colab": {
          "base_uri": "https://localhost:8080/"
        },
        "id": "PbxbIJLZtfNR",
        "outputId": "f3b1c7fb-f916-41b4-c73d-4ef77d59967e"
      },
      "outputs": [
        {
          "output_type": "stream",
          "name": "stderr",
          "text": [
            "Installing package into ‘/usr/local/lib/R/site-library’\n",
            "(as ‘lib’ is unspecified)\n",
            "\n",
            "'getOption(\"repos\")' replaces Bioconductor standard repositories, see\n",
            "'help(\"repositories\", package = \"BiocManager\")' for details.\n",
            "Replacement repositories:\n",
            "    CRAN: https://cran.rstudio.com\n",
            "\n",
            "Bioconductor version 3.18 (BiocManager 1.30.22), R 4.3.3 (2024-02-29)\n",
            "\n",
            "Installing package(s) 'BiocVersion', 'edgeR'\n",
            "\n",
            "also installing the dependencies ‘statmod’, ‘limma’, ‘locfit’, ‘Rcpp’\n",
            "\n",
            "\n",
            "Old packages: 'bit', 'bslib', 'callr', 'curl', 'data.table', 'DBI', 'dbplyr',\n",
            "  'devtools', 'digest', 'gargle', 'ggplot2', 'highr', 'htmltools', 'isoband',\n",
            "  'openssl', 'pkgbuild', 'processx', 'ragg', 'remotes', 'rmarkdown',\n",
            "  'rstudioapi', 'rvest', 'sass', 'systemfonts', 'textshaping', 'tidyselect',\n",
            "  'tinytex', 'usethis', 'whisker', 'xfun', 'zip', 'lattice', 'nlme'\n",
            "\n",
            "Installing package into ‘/usr/local/lib/R/site-library’\n",
            "(as ‘lib’ is unspecified)\n",
            "\n",
            "Installing package into ‘/usr/local/lib/R/site-library’\n",
            "(as ‘lib’ is unspecified)\n",
            "\n"
          ]
        }
      ],
      "source": [
        "if (!require(\"BiocManager\", quietly = TRUE))\n",
        "    install.packages(\"BiocManager\")\n",
        "\n",
        "BiocManager::install(\"edgeR\")\n",
        "\n",
        "install.packages(\"ggplot2\")\n",
        "install.packages(\"pheatmap\")"
      ]
    },
    {
      "cell_type": "code",
      "source": [
        "library(edgeR)\n",
        "library(ggplot2)"
      ],
      "metadata": {
        "id": "ovpQjQCCxasL",
        "colab": {
          "base_uri": "https://localhost:8080/"
        },
        "outputId": "84f5d868-157a-4523-8b7f-da188b470216"
      },
      "execution_count": 2,
      "outputs": [
        {
          "output_type": "stream",
          "name": "stderr",
          "text": [
            "Loading required package: limma\n",
            "\n"
          ]
        }
      ]
    },
    {
      "cell_type": "markdown",
      "source": [
        "## Подгрузим наши данные"
      ],
      "metadata": {
        "id": "CdYs6VToxbrN"
      }
    },
    {
      "cell_type": "markdown",
      "source": [
        "Файл с каунтами: [ссылка](https://github.com/Claptar/rnaseq_mipt/blob/main/results/counts.csv)"
      ],
      "metadata": {
        "id": "MwLLKni18Z2w"
      }
    },
    {
      "cell_type": "code",
      "source": [
        "expression <- read.csv('counts.csv', header=TRUE, row.names=1)\n",
        "head(expression)"
      ],
      "metadata": {
        "colab": {
          "base_uri": "https://localhost:8080/",
          "height": 286
        },
        "id": "6fCEh5-wwE87",
        "outputId": "2766ad31-cd17-490c-8d9a-8300bc32848e"
      },
      "execution_count": 3,
      "outputs": [
        {
          "output_type": "display_data",
          "data": {
            "text/html": [
              "<table class=\"dataframe\">\n",
              "<caption>A data.frame: 6 × 6</caption>\n",
              "<thead>\n",
              "\t<tr><th></th><th scope=col>SRR3414631</th><th scope=col>SRR3414630</th><th scope=col>SRR3414636</th><th scope=col>SRR3414637</th><th scope=col>SRR3414635</th><th scope=col>SRR3414629</th></tr>\n",
              "\t<tr><th></th><th scope=col>&lt;int&gt;</th><th scope=col>&lt;int&gt;</th><th scope=col>&lt;int&gt;</th><th scope=col>&lt;int&gt;</th><th scope=col>&lt;int&gt;</th><th scope=col>&lt;int&gt;</th></tr>\n",
              "</thead>\n",
              "<tbody>\n",
              "\t<tr><th scope=row>ENSMUSG00000064341</th><td> 57039</td><td>43493</td><td>51029</td><td>63237</td><td>52101</td><td>45624</td></tr>\n",
              "\t<tr><th scope=row>ENSMUSG00000064345</th><td> 43560</td><td>32273</td><td>31116</td><td>34681</td><td>31629</td><td>33351</td></tr>\n",
              "\t<tr><th scope=row>ENSMUSG00000064351</th><td>113347</td><td>75750</td><td>76672</td><td>87061</td><td>78155</td><td>86348</td></tr>\n",
              "\t<tr><th scope=row>ENSMUSG00000064354</th><td>    45</td><td>   36</td><td>   22</td><td>   39</td><td>   36</td><td>   26</td></tr>\n",
              "\t<tr><th scope=row>ENSMUSG00000064356</th><td>     3</td><td>    1</td><td>    3</td><td>    0</td><td>    4</td><td>    5</td></tr>\n",
              "\t<tr><th scope=row>ENSMUSG00000064357</th><td>    32</td><td>   18</td><td>   17</td><td>   16</td><td>   27</td><td>   19</td></tr>\n",
              "</tbody>\n",
              "</table>\n"
            ],
            "text/markdown": "\nA data.frame: 6 × 6\n\n| <!--/--> | SRR3414631 &lt;int&gt; | SRR3414630 &lt;int&gt; | SRR3414636 &lt;int&gt; | SRR3414637 &lt;int&gt; | SRR3414635 &lt;int&gt; | SRR3414629 &lt;int&gt; |\n|---|---|---|---|---|---|---|\n| ENSMUSG00000064341 |  57039 | 43493 | 51029 | 63237 | 52101 | 45624 |\n| ENSMUSG00000064345 |  43560 | 32273 | 31116 | 34681 | 31629 | 33351 |\n| ENSMUSG00000064351 | 113347 | 75750 | 76672 | 87061 | 78155 | 86348 |\n| ENSMUSG00000064354 |     45 |    36 |    22 |    39 |    36 |    26 |\n| ENSMUSG00000064356 |      3 |     1 |     3 |     0 |     4 |     5 |\n| ENSMUSG00000064357 |     32 |    18 |    17 |    16 |    27 |    19 |\n\n",
            "text/latex": "A data.frame: 6 × 6\n\\begin{tabular}{r|llllll}\n  & SRR3414631 & SRR3414630 & SRR3414636 & SRR3414637 & SRR3414635 & SRR3414629\\\\\n  & <int> & <int> & <int> & <int> & <int> & <int>\\\\\n\\hline\n\tENSMUSG00000064341 &  57039 & 43493 & 51029 & 63237 & 52101 & 45624\\\\\n\tENSMUSG00000064345 &  43560 & 32273 & 31116 & 34681 & 31629 & 33351\\\\\n\tENSMUSG00000064351 & 113347 & 75750 & 76672 & 87061 & 78155 & 86348\\\\\n\tENSMUSG00000064354 &     45 &    36 &    22 &    39 &    36 &    26\\\\\n\tENSMUSG00000064356 &      3 &     1 &     3 &     0 &     4 &     5\\\\\n\tENSMUSG00000064357 &     32 &    18 &    17 &    16 &    27 &    19\\\\\n\\end{tabular}\n",
            "text/plain": [
              "                   SRR3414631 SRR3414630 SRR3414636 SRR3414637 SRR3414635\n",
              "ENSMUSG00000064341  57039     43493      51029      63237      52101     \n",
              "ENSMUSG00000064345  43560     32273      31116      34681      31629     \n",
              "ENSMUSG00000064351 113347     75750      76672      87061      78155     \n",
              "ENSMUSG00000064354     45        36         22         39         36     \n",
              "ENSMUSG00000064356      3         1          3          0          4     \n",
              "ENSMUSG00000064357     32        18         17         16         27     \n",
              "                   SRR3414629\n",
              "ENSMUSG00000064341 45624     \n",
              "ENSMUSG00000064345 33351     \n",
              "ENSMUSG00000064351 86348     \n",
              "ENSMUSG00000064354    26     \n",
              "ENSMUSG00000064356     5     \n",
              "ENSMUSG00000064357    19     "
            ]
          },
          "metadata": {}
        }
      ]
    },
    {
      "cell_type": "code",
      "source": [
        "annotation <- matrix(c(\"reprog\", \"reprog\", \"ctrl\", \"ctrl\", \"ctrl\", \"reprog\"))\n",
        "rownames(annotation) <-colnames(expression)\n",
        "colnames(annotation) <- c(\"condition\")\n",
        "annotation <- data.frame(annotation)\n",
        "annotation$condition <- factor(annotation$condition, levels=c(\"ctrl\", \"reprog\"))\n",
        "annotation"
      ],
      "metadata": {
        "colab": {
          "base_uri": "https://localhost:8080/",
          "height": 286
        },
        "id": "5InE0-HhxHZ8",
        "outputId": "5f0a21e8-a9b7-48da-aaad-32f5dfc5286b"
      },
      "execution_count": 14,
      "outputs": [
        {
          "output_type": "display_data",
          "data": {
            "text/html": [
              "<table class=\"dataframe\">\n",
              "<caption>A data.frame: 6 × 1</caption>\n",
              "<thead>\n",
              "\t<tr><th></th><th scope=col>condition</th></tr>\n",
              "\t<tr><th></th><th scope=col>&lt;fct&gt;</th></tr>\n",
              "</thead>\n",
              "<tbody>\n",
              "\t<tr><th scope=row>SRR3414631</th><td>reprog</td></tr>\n",
              "\t<tr><th scope=row>SRR3414630</th><td>reprog</td></tr>\n",
              "\t<tr><th scope=row>SRR3414636</th><td>ctrl  </td></tr>\n",
              "\t<tr><th scope=row>SRR3414637</th><td>ctrl  </td></tr>\n",
              "\t<tr><th scope=row>SRR3414635</th><td>ctrl  </td></tr>\n",
              "\t<tr><th scope=row>SRR3414629</th><td>reprog</td></tr>\n",
              "</tbody>\n",
              "</table>\n"
            ],
            "text/markdown": "\nA data.frame: 6 × 1\n\n| <!--/--> | condition &lt;fct&gt; |\n|---|---|\n| SRR3414631 | reprog |\n| SRR3414630 | reprog |\n| SRR3414636 | ctrl   |\n| SRR3414637 | ctrl   |\n| SRR3414635 | ctrl   |\n| SRR3414629 | reprog |\n\n",
            "text/latex": "A data.frame: 6 × 1\n\\begin{tabular}{r|l}\n  & condition\\\\\n  & <fct>\\\\\n\\hline\n\tSRR3414631 & reprog\\\\\n\tSRR3414630 & reprog\\\\\n\tSRR3414636 & ctrl  \\\\\n\tSRR3414637 & ctrl  \\\\\n\tSRR3414635 & ctrl  \\\\\n\tSRR3414629 & reprog\\\\\n\\end{tabular}\n",
            "text/plain": [
              "           condition\n",
              "SRR3414631 reprog   \n",
              "SRR3414630 reprog   \n",
              "SRR3414636 ctrl     \n",
              "SRR3414637 ctrl     \n",
              "SRR3414635 ctrl     \n",
              "SRR3414629 reprog   "
            ]
          },
          "metadata": {}
        }
      ]
    },
    {
      "cell_type": "markdown",
      "source": [
        "# Предобработка"
      ],
      "metadata": {
        "id": "2DzQnMnOxOtM"
      }
    },
    {
      "cell_type": "code",
      "source": [
        "y <- DGEList(counts=expression, samples=annotation)"
      ],
      "metadata": {
        "id": "yNO_aUlyoh0i"
      },
      "execution_count": 15,
      "outputs": []
    },
    {
      "cell_type": "markdown",
      "source": [
        "Фильтрация"
      ],
      "metadata": {
        "id": "d_Q35ibxoh0i"
      }
    },
    {
      "cell_type": "code",
      "source": [
        "keep.genes <- filterByExpr(y, group=y$samples$condition)\n",
        "table(keep.genes)"
      ],
      "metadata": {
        "colab": {
          "base_uri": "https://localhost:8080/",
          "height": 69
        },
        "outputId": "c4657fc2-fd62-458e-f289-a1057a8671ad",
        "id": "vjY-EbYxoh0i"
      },
      "execution_count": 16,
      "outputs": [
        {
          "output_type": "display_data",
          "data": {
            "text/plain": [
              "keep.genes\n",
              "FALSE  TRUE \n",
              " 8210 13481 "
            ]
          },
          "metadata": {}
        }
      ]
    },
    {
      "cell_type": "code",
      "source": [
        "y <- y[keep.genes, , keep=FALSE]"
      ],
      "metadata": {
        "id": "xRSUZ4t4oh0j"
      },
      "execution_count": 17,
      "outputs": []
    },
    {
      "cell_type": "code",
      "source": [
        "y <- normLibSizes(y)\n",
        "head(y$samples, n=10L)"
      ],
      "metadata": {
        "colab": {
          "base_uri": "https://localhost:8080/",
          "height": 286
        },
        "outputId": "2a626575-7456-46ce-9fbe-49b1c37d6a40",
        "id": "k4xZNpV-oh0j"
      },
      "execution_count": 18,
      "outputs": [
        {
          "output_type": "display_data",
          "data": {
            "text/html": [
              "<table class=\"dataframe\">\n",
              "<caption>A data.frame: 6 × 4</caption>\n",
              "<thead>\n",
              "\t<tr><th></th><th scope=col>group</th><th scope=col>lib.size</th><th scope=col>norm.factors</th><th scope=col>condition</th></tr>\n",
              "\t<tr><th></th><th scope=col>&lt;fct&gt;</th><th scope=col>&lt;dbl&gt;</th><th scope=col>&lt;dbl&gt;</th><th scope=col>&lt;fct&gt;</th></tr>\n",
              "</thead>\n",
              "<tbody>\n",
              "\t<tr><th scope=row>SRR3414631</th><td>1</td><td>18230901</td><td>1.0483659</td><td>reprog</td></tr>\n",
              "\t<tr><th scope=row>SRR3414630</th><td>1</td><td>11338801</td><td>1.0403518</td><td>reprog</td></tr>\n",
              "\t<tr><th scope=row>SRR3414636</th><td>1</td><td>15611273</td><td>0.9631441</td><td>ctrl  </td></tr>\n",
              "\t<tr><th scope=row>SRR3414637</th><td>1</td><td>15566280</td><td>0.9559073</td><td>ctrl  </td></tr>\n",
              "\t<tr><th scope=row>SRR3414635</th><td>1</td><td>16118146</td><td>0.9639852</td><td>ctrl  </td></tr>\n",
              "\t<tr><th scope=row>SRR3414629</th><td>1</td><td>15875614</td><td>1.0330693</td><td>reprog</td></tr>\n",
              "</tbody>\n",
              "</table>\n"
            ],
            "text/markdown": "\nA data.frame: 6 × 4\n\n| <!--/--> | group &lt;fct&gt; | lib.size &lt;dbl&gt; | norm.factors &lt;dbl&gt; | condition &lt;fct&gt; |\n|---|---|---|---|---|\n| SRR3414631 | 1 | 18230901 | 1.0483659 | reprog |\n| SRR3414630 | 1 | 11338801 | 1.0403518 | reprog |\n| SRR3414636 | 1 | 15611273 | 0.9631441 | ctrl   |\n| SRR3414637 | 1 | 15566280 | 0.9559073 | ctrl   |\n| SRR3414635 | 1 | 16118146 | 0.9639852 | ctrl   |\n| SRR3414629 | 1 | 15875614 | 1.0330693 | reprog |\n\n",
            "text/latex": "A data.frame: 6 × 4\n\\begin{tabular}{r|llll}\n  & group & lib.size & norm.factors & condition\\\\\n  & <fct> & <dbl> & <dbl> & <fct>\\\\\n\\hline\n\tSRR3414631 & 1 & 18230901 & 1.0483659 & reprog\\\\\n\tSRR3414630 & 1 & 11338801 & 1.0403518 & reprog\\\\\n\tSRR3414636 & 1 & 15611273 & 0.9631441 & ctrl  \\\\\n\tSRR3414637 & 1 & 15566280 & 0.9559073 & ctrl  \\\\\n\tSRR3414635 & 1 & 16118146 & 0.9639852 & ctrl  \\\\\n\tSRR3414629 & 1 & 15875614 & 1.0330693 & reprog\\\\\n\\end{tabular}\n",
            "text/plain": [
              "           group lib.size norm.factors condition\n",
              "SRR3414631 1     18230901 1.0483659    reprog   \n",
              "SRR3414630 1     11338801 1.0403518    reprog   \n",
              "SRR3414636 1     15611273 0.9631441    ctrl     \n",
              "SRR3414637 1     15566280 0.9559073    ctrl     \n",
              "SRR3414635 1     16118146 0.9639852    ctrl     \n",
              "SRR3414629 1     15875614 1.0330693    reprog   "
            ]
          },
          "metadata": {}
        }
      ]
    },
    {
      "cell_type": "code",
      "source": [
        "write.csv(cpm(y, log=FALSE, normalized.lib.sizes=TRUE), 'tmm_edgeR.csv')"
      ],
      "metadata": {
        "id": "xv2D5s9Yoh0j"
      },
      "execution_count": 19,
      "outputs": []
    },
    {
      "cell_type": "code",
      "source": [
        "summary(y$samples$norm.factors)"
      ],
      "metadata": {
        "colab": {
          "base_uri": "https://localhost:8080/",
          "height": 52
        },
        "outputId": "9e1f7efc-4eb9-4a30-fa97-a3a2f63c40c6",
        "id": "kM5No4hUoh0j"
      },
      "execution_count": 20,
      "outputs": [
        {
          "output_type": "display_data",
          "data": {
            "text/plain": [
              "   Min. 1st Qu.  Median    Mean 3rd Qu.    Max. \n",
              " 0.9559  0.9634  0.9985  1.0008  1.0385  1.0484 "
            ]
          },
          "metadata": {}
        }
      ]
    },
    {
      "cell_type": "markdown",
      "source": [
        "# Data exploration"
      ],
      "metadata": {
        "id": "oWt2wBC43F5k"
      }
    },
    {
      "cell_type": "code",
      "source": [
        "condition <- as.factor(y$samples$condition)\n",
        "plotMDS(y, pch=16, col=c(2:3)[condition], main=\"MDS\")\n",
        "legend(\"bottomright\", legend=paste0(\"cluster\",levels(condition)), pch=16, col=2:3, cex=0.8)"
      ],
      "metadata": {
        "colab": {
          "base_uri": "https://localhost:8080/",
          "height": 437
        },
        "id": "QVL-z0Yy3Q8T",
        "outputId": "75625f48-3205-4b25-9166-993df432cde2"
      },
      "execution_count": 22,
      "outputs": [
        {
          "output_type": "display_data",
          "data": {
            "text/plain": [
              "Plot with title “MDS”"
            ],
            "image/png": "[encoded data removed]"
          },
          "metadata": {
            "image/png": {
              "width": 420,
              "height": 420
            }
          }
        }
      ]
    },
    {
      "cell_type": "markdown",
      "source": [
        "Образцы хорошо разделяются"
      ],
      "metadata": {
        "id": "gAMGshLwflqh"
      }
    },
    {
      "cell_type": "markdown",
      "source": [
        "# Differential expression"
      ],
      "metadata": {
        "id": "CSkS9O474FHm"
      }
    },
    {
      "cell_type": "markdown",
      "source": [
        "## Design matrix"
      ],
      "metadata": {
        "id": "_2u5yMwz4NjD"
      }
    },
    {
      "cell_type": "code",
      "source": [
        "design <- model.matrix(~ condition)\n",
        "colnames(design) <- gsub(\"condition\", \"\", colnames(design))\n",
        "head(design)"
      ],
      "metadata": {
        "colab": {
          "base_uri": "https://localhost:8080/",
          "height": 255
        },
        "id": "rP98My0X4Lhl",
        "outputId": "09ae5137-e4be-41cf-fdf5-ac24ee294d19"
      },
      "execution_count": 24,
      "outputs": [
        {
          "output_type": "display_data",
          "data": {
            "text/html": [
              "<table class=\"dataframe\">\n",
              "<caption>A matrix: 6 × 2 of type dbl</caption>\n",
              "<thead>\n",
              "\t<tr><th></th><th scope=col>(Intercept)</th><th scope=col>reprog</th></tr>\n",
              "</thead>\n",
              "<tbody>\n",
              "\t<tr><th scope=row>1</th><td>1</td><td>1</td></tr>\n",
              "\t<tr><th scope=row>2</th><td>1</td><td>1</td></tr>\n",
              "\t<tr><th scope=row>3</th><td>1</td><td>0</td></tr>\n",
              "\t<tr><th scope=row>4</th><td>1</td><td>0</td></tr>\n",
              "\t<tr><th scope=row>5</th><td>1</td><td>0</td></tr>\n",
              "\t<tr><th scope=row>6</th><td>1</td><td>1</td></tr>\n",
              "</tbody>\n",
              "</table>\n"
            ],
            "text/markdown": "\nA matrix: 6 × 2 of type dbl\n\n| <!--/--> | (Intercept) | reprog |\n|---|---|---|\n| 1 | 1 | 1 |\n| 2 | 1 | 1 |\n| 3 | 1 | 0 |\n| 4 | 1 | 0 |\n| 5 | 1 | 0 |\n| 6 | 1 | 1 |\n\n",
            "text/latex": "A matrix: 6 × 2 of type dbl\n\\begin{tabular}{r|ll}\n  & (Intercept) & reprog\\\\\n\\hline\n\t1 & 1 & 1\\\\\n\t2 & 1 & 1\\\\\n\t3 & 1 & 0\\\\\n\t4 & 1 & 0\\\\\n\t5 & 1 & 0\\\\\n\t6 & 1 & 1\\\\\n\\end{tabular}\n",
            "text/plain": [
              "  (Intercept) reprog\n",
              "1 1           1     \n",
              "2 1           1     \n",
              "3 1           0     \n",
              "4 1           0     \n",
              "5 1           0     \n",
              "6 1           1     "
            ]
          },
          "metadata": {}
        }
      ]
    },
    {
      "cell_type": "markdown",
      "source": [
        "## Estimate dispersion"
      ],
      "metadata": {
        "id": "6c7xPsVF4daM"
      }
    },
    {
      "cell_type": "code",
      "source": [
        "y <- estimateDisp(y, design, robust=TRUE)\n",
        "y$common.dispersion"
      ],
      "metadata": {
        "colab": {
          "base_uri": "https://localhost:8080/",
          "height": 34
        },
        "id": "VMZHgqKo4fN7",
        "outputId": "138d3020-634e-47c9-a5ec-119d1c44a93c"
      },
      "execution_count": 25,
      "outputs": [
        {
          "output_type": "display_data",
          "data": {
            "text/html": [
              "0.00973102589823814"
            ],
            "text/markdown": "0.00973102589823814",
            "text/latex": "0.00973102589823814",
            "text/plain": [
              "[1] 0.009731026"
            ]
          },
          "metadata": {}
        }
      ]
    },
    {
      "cell_type": "code",
      "source": [
        "plotBCV(y)"
      ],
      "metadata": {
        "colab": {
          "base_uri": "https://localhost:8080/",
          "height": 437
        },
        "id": "gS9uKV0x4g8f",
        "outputId": "cb074833-6f14-4b8f-c157-efb5af4c64fd"
      },
      "execution_count": 26,
      "outputs": [
        {
          "output_type": "display_data",
          "data": {
            "text/plain": [
              "plot without title"
            ],
            "image/png": "[encoded data removed]"
          },
          "metadata": {
            "image/png": {
              "width": 420,
              "height": 420
            }
          }
        }
      ]
    },
    {
      "cell_type": "code",
      "source": [
        "fit <- glmFit(y, design)"
      ],
      "metadata": {
        "id": "xoO4oEPK4jI6"
      },
      "execution_count": 27,
      "outputs": []
    },
    {
      "cell_type": "markdown",
      "source": [
        "## Estimate parameters"
      ],
      "metadata": {
        "id": "YFMfJihe5Hs2"
      }
    },
    {
      "cell_type": "code",
      "source": [
        "lrt <- glmLRT(fit, coef=2)\n",
        "topTags(lrt, n = 30)$table"
      ],
      "metadata": {
        "colab": {
          "base_uri": "https://localhost:8080/",
          "height": 1000
        },
        "id": "1JXXxwX6gkcY",
        "outputId": "7fba5d1e-a0ce-4c4f-f819-077714e91e96"
      },
      "execution_count": 34,
      "outputs": [
        {
          "output_type": "display_data",
          "data": {
            "text/html": [
              "<table class=\"dataframe\">\n",
              "<caption>A data.frame: 30 × 5</caption>\n",
              "<thead>\n",
              "\t<tr><th></th><th scope=col>logFC</th><th scope=col>logCPM</th><th scope=col>LR</th><th scope=col>PValue</th><th scope=col>FDR</th></tr>\n",
              "\t<tr><th></th><th scope=col>&lt;dbl&gt;</th><th scope=col>&lt;dbl&gt;</th><th scope=col>&lt;dbl&gt;</th><th scope=col>&lt;dbl&gt;</th><th scope=col>&lt;dbl&gt;</th></tr>\n",
              "</thead>\n",
              "<tbody>\n",
              "\t<tr><th scope=row>ENSMUSG00000035557</th><td>11.806160</td><td>8.528377</td><td>2806.545</td><td> 0.000000e+00</td><td> 0.000000e+00</td></tr>\n",
              "\t<tr><th scope=row>ENSMUSG00000102308</th><td>11.038127</td><td>5.780197</td><td>1657.367</td><td> 0.000000e+00</td><td> 0.000000e+00</td></tr>\n",
              "\t<tr><th scope=row>ENSMUSG00000092586</th><td>10.912516</td><td>7.289780</td><td>1580.148</td><td> 0.000000e+00</td><td> 0.000000e+00</td></tr>\n",
              "\t<tr><th scope=row>ENSMUSG00000049382</th><td>10.820563</td><td>8.590946</td><td>2279.240</td><td> 0.000000e+00</td><td> 0.000000e+00</td></tr>\n",
              "\t<tr><th scope=row>ENSMUSG00000044294</th><td>10.718822</td><td>5.968469</td><td>1870.130</td><td> 0.000000e+00</td><td> 0.000000e+00</td></tr>\n",
              "\t<tr><th scope=row>ENSMUSG00000047501</th><td>10.207945</td><td>6.587246</td><td>1631.070</td><td> 0.000000e+00</td><td> 0.000000e+00</td></tr>\n",
              "\t<tr><th scope=row>ENSMUSG00000041782</th><td> 9.660380</td><td>5.830699</td><td>1486.707</td><td> 0.000000e+00</td><td> 0.000000e+00</td></tr>\n",
              "\t<tr><th scope=row>ENSMUSG00000048699</th><td> 9.565425</td><td>7.336693</td><td>2311.292</td><td> 0.000000e+00</td><td> 0.000000e+00</td></tr>\n",
              "\t<tr><th scope=row>ENSMUSG00000045545</th><td> 9.104124</td><td>8.072739</td><td>2829.382</td><td> 0.000000e+00</td><td> 0.000000e+00</td></tr>\n",
              "\t<tr><th scope=row>ENSMUSG00000020788</th><td> 8.748579</td><td>7.123559</td><td>1857.315</td><td> 0.000000e+00</td><td> 0.000000e+00</td></tr>\n",
              "\t<tr><th scope=row>ENSMUSG00000044041</th><td> 8.552573</td><td>5.995260</td><td>1615.544</td><td> 0.000000e+00</td><td> 0.000000e+00</td></tr>\n",
              "\t<tr><th scope=row>ENSMUSG00000022218</th><td> 8.421466</td><td>6.269804</td><td>1843.577</td><td> 0.000000e+00</td><td> 0.000000e+00</td></tr>\n",
              "\t<tr><th scope=row>ENSMUSG00000025608</th><td> 8.277321</td><td>8.175722</td><td>2085.549</td><td> 0.000000e+00</td><td> 0.000000e+00</td></tr>\n",
              "\t<tr><th scope=row>ENSMUSG00000061126</th><td> 8.130799</td><td>6.734282</td><td>1687.469</td><td> 0.000000e+00</td><td> 0.000000e+00</td></tr>\n",
              "\t<tr><th scope=row>ENSMUSG00000053797</th><td> 7.965302</td><td>7.283232</td><td>2320.212</td><td> 0.000000e+00</td><td> 0.000000e+00</td></tr>\n",
              "\t<tr><th scope=row>ENSMUSG00000047586</th><td> 7.402758</td><td>7.305258</td><td>1784.272</td><td> 0.000000e+00</td><td> 0.000000e+00</td></tr>\n",
              "\t<tr><th scope=row>ENSMUSG00000060716</th><td> 6.741163</td><td>5.817619</td><td>1514.713</td><td> 0.000000e+00</td><td> 0.000000e+00</td></tr>\n",
              "\t<tr><th scope=row>ENSMUSG00000000303</th><td> 5.822747</td><td>7.534880</td><td>1513.446</td><td> 0.000000e+00</td><td> 0.000000e+00</td></tr>\n",
              "\t<tr><th scope=row>ENSMUSG00000030693</th><td> 5.414754</td><td>6.397681</td><td>1654.344</td><td> 0.000000e+00</td><td> 0.000000e+00</td></tr>\n",
              "\t<tr><th scope=row>ENSMUSG00000056602</th><td> 5.350543</td><td>6.284184</td><td>1486.931</td><td> 0.000000e+00</td><td> 0.000000e+00</td></tr>\n",
              "\t<tr><th scope=row>ENSMUSG00000047281</th><td> 5.237488</td><td>6.123815</td><td>1530.791</td><td> 0.000000e+00</td><td> 0.000000e+00</td></tr>\n",
              "\t<tr><th scope=row>ENSMUSG00000035852</th><td> 8.644680</td><td>5.653218</td><td>1440.076</td><td>4.109825e-315</td><td>2.518388e-312</td></tr>\n",
              "\t<tr><th scope=row>ENSMUSG00000034282</th><td> 6.795740</td><td>6.378799</td><td>1437.408</td><td>1.561573e-314</td><td>9.152857e-312</td></tr>\n",
              "\t<tr><th scope=row>ENSMUSG00000058354</th><td>13.275243</td><td>5.329081</td><td>1436.374</td><td>2.620381e-314</td><td>1.471890e-311</td></tr>\n",
              "\t<tr><th scope=row>ENSMUSG00000000544</th><td>10.885252</td><td>5.627749</td><td>1436.270</td><td>2.759962e-314</td><td>1.488282e-311</td></tr>\n",
              "\t<tr><th scope=row>ENSMUSG00000028435</th><td> 6.233486</td><td>6.040922</td><td>1430.831</td><td>4.196099e-313</td><td>2.175677e-310</td></tr>\n",
              "\t<tr><th scope=row>ENSMUSG00000087166</th><td>10.270359</td><td>6.647789</td><td>1402.869</td><td>5.000329e-307</td><td>2.496646e-304</td></tr>\n",
              "\t<tr><th scope=row>ENSMUSG00000031995</th><td> 5.984345</td><td>6.391365</td><td>1350.915</td><td>9.746620e-296</td><td>4.692649e-293</td></tr>\n",
              "\t<tr><th scope=row>ENSMUSG00000039269</th><td>12.668181</td><td>4.726550</td><td>1293.101</td><td>3.567592e-283</td><td>1.658438e-280</td></tr>\n",
              "\t<tr><th scope=row>ENSMUSG00000068876</th><td> 7.535403</td><td>5.389117</td><td>1276.390</td><td>1.527914e-279</td><td>6.865934e-277</td></tr>\n",
              "</tbody>\n",
              "</table>\n"
            ],
            "text/markdown": "\nA data.frame: 30 × 5\n\n| <!--/--> | logFC &lt;dbl&gt; | logCPM &lt;dbl&gt; | LR &lt;dbl&gt; | PValue &lt;dbl&gt; | FDR &lt;dbl&gt; |\n|---|---|---|---|---|---|\n| ENSMUSG00000035557 | 11.806160 | 8.528377 | 2806.545 |  0.000000e+00 |  0.000000e+00 |\n| ENSMUSG00000102308 | 11.038127 | 5.780197 | 1657.367 |  0.000000e+00 |  0.000000e+00 |\n| ENSMUSG00000092586 | 10.912516 | 7.289780 | 1580.148 |  0.000000e+00 |  0.000000e+00 |\n| ENSMUSG00000049382 | 10.820563 | 8.590946 | 2279.240 |  0.000000e+00 |  0.000000e+00 |\n| ENSMUSG00000044294 | 10.718822 | 5.968469 | 1870.130 |  0.000000e+00 |  0.000000e+00 |\n| ENSMUSG00000047501 | 10.207945 | 6.587246 | 1631.070 |  0.000000e+00 |  0.000000e+00 |\n| ENSMUSG00000041782 |  9.660380 | 5.830699 | 1486.707 |  0.000000e+00 |  0.000000e+00 |\n| ENSMUSG00000048699 |  9.565425 | 7.336693 | 2311.292 |  0.000000e+00 |  0.000000e+00 |\n| ENSMUSG00000045545 |  9.104124 | 8.072739 | 2829.382 |  0.000000e+00 |  0.000000e+00 |\n| ENSMUSG00000020788 |  8.748579 | 7.123559 | 1857.315 |  0.000000e+00 |  0.000000e+00 |\n| ENSMUSG00000044041 |  8.552573 | 5.995260 | 1615.544 |  0.000000e+00 |  0.000000e+00 |\n| ENSMUSG00000022218 |  8.421466 | 6.269804 | 1843.577 |  0.000000e+00 |  0.000000e+00 |\n| ENSMUSG00000025608 |  8.277321 | 8.175722 | 2085.549 |  0.000000e+00 |  0.000000e+00 |\n| ENSMUSG00000061126 |  8.130799 | 6.734282 | 1687.469 |  0.000000e+00 |  0.000000e+00 |\n| ENSMUSG00000053797 |  7.965302 | 7.283232 | 2320.212 |  0.000000e+00 |  0.000000e+00 |\n| ENSMUSG00000047586 |  7.402758 | 7.305258 | 1784.272 |  0.000000e+00 |  0.000000e+00 |\n| ENSMUSG00000060716 |  6.741163 | 5.817619 | 1514.713 |  0.000000e+00 |  0.000000e+00 |\n| ENSMUSG00000000303 |  5.822747 | 7.534880 | 1513.446 |  0.000000e+00 |  0.000000e+00 |\n| ENSMUSG00000030693 |  5.414754 | 6.397681 | 1654.344 |  0.000000e+00 |  0.000000e+00 |\n| ENSMUSG00000056602 |  5.350543 | 6.284184 | 1486.931 |  0.000000e+00 |  0.000000e+00 |\n| ENSMUSG00000047281 |  5.237488 | 6.123815 | 1530.791 |  0.000000e+00 |  0.000000e+00 |\n| ENSMUSG00000035852 |  8.644680 | 5.653218 | 1440.076 | 4.109825e-315 | 2.518388e-312 |\n| ENSMUSG00000034282 |  6.795740 | 6.378799 | 1437.408 | 1.561573e-314 | 9.152857e-312 |\n| ENSMUSG00000058354 | 13.275243 | 5.329081 | 1436.374 | 2.620381e-314 | 1.471890e-311 |\n| ENSMUSG00000000544 | 10.885252 | 5.627749 | 1436.270 | 2.759962e-314 | 1.488282e-311 |\n| ENSMUSG00000028435 |  6.233486 | 6.040922 | 1430.831 | 4.196099e-313 | 2.175677e-310 |\n| ENSMUSG00000087166 | 10.270359 | 6.647789 | 1402.869 | 5.000329e-307 | 2.496646e-304 |\n| ENSMUSG00000031995 |  5.984345 | 6.391365 | 1350.915 | 9.746620e-296 | 4.692649e-293 |\n| ENSMUSG00000039269 | 12.668181 | 4.726550 | 1293.101 | 3.567592e-283 | 1.658438e-280 |\n| ENSMUSG00000068876 |  7.535403 | 5.389117 | 1276.390 | 1.527914e-279 | 6.865934e-277 |\n\n",
            "text/latex": "A data.frame: 30 × 5\n\\begin{tabular}{r|lllll}\n  & logFC & logCPM & LR & PValue & FDR\\\\\n  & <dbl> & <dbl> & <dbl> & <dbl> & <dbl>\\\\\n\\hline\n\tENSMUSG00000035557 & 11.806160 & 8.528377 & 2806.545 &  0.000000e+00 &  0.000000e+00\\\\\n\tENSMUSG00000102308 & 11.038127 & 5.780197 & 1657.367 &  0.000000e+00 &  0.000000e+00\\\\\n\tENSMUSG00000092586 & 10.912516 & 7.289780 & 1580.148 &  0.000000e+00 &  0.000000e+00\\\\\n\tENSMUSG00000049382 & 10.820563 & 8.590946 & 2279.240 &  0.000000e+00 &  0.000000e+00\\\\\n\tENSMUSG00000044294 & 10.718822 & 5.968469 & 1870.130 &  0.000000e+00 &  0.000000e+00\\\\\n\tENSMUSG00000047501 & 10.207945 & 6.587246 & 1631.070 &  0.000000e+00 &  0.000000e+00\\\\\n\tENSMUSG00000041782 &  9.660380 & 5.830699 & 1486.707 &  0.000000e+00 &  0.000000e+00\\\\\n\tENSMUSG00000048699 &  9.565425 & 7.336693 & 2311.292 &  0.000000e+00 &  0.000000e+00\\\\\n\tENSMUSG00000045545 &  9.104124 & 8.072739 & 2829.382 &  0.000000e+00 &  0.000000e+00\\\\\n\tENSMUSG00000020788 &  8.748579 & 7.123559 & 1857.315 &  0.000000e+00 &  0.000000e+00\\\\\n\tENSMUSG00000044041 &  8.552573 & 5.995260 & 1615.544 &  0.000000e+00 &  0.000000e+00\\\\\n\tENSMUSG00000022218 &  8.421466 & 6.269804 & 1843.577 &  0.000000e+00 &  0.000000e+00\\\\\n\tENSMUSG00000025608 &  8.277321 & 8.175722 & 2085.549 &  0.000000e+00 &  0.000000e+00\\\\\n\tENSMUSG00000061126 &  8.130799 & 6.734282 & 1687.469 &  0.000000e+00 &  0.000000e+00\\\\\n\tENSMUSG00000053797 &  7.965302 & 7.283232 & 2320.212 &  0.000000e+00 &  0.000000e+00\\\\\n\tENSMUSG00000047586 &  7.402758 & 7.305258 & 1784.272 &  0.000000e+00 &  0.000000e+00\\\\\n\tENSMUSG00000060716 &  6.741163 & 5.817619 & 1514.713 &  0.000000e+00 &  0.000000e+00\\\\\n\tENSMUSG00000000303 &  5.822747 & 7.534880 & 1513.446 &  0.000000e+00 &  0.000000e+00\\\\\n\tENSMUSG00000030693 &  5.414754 & 6.397681 & 1654.344 &  0.000000e+00 &  0.000000e+00\\\\\n\tENSMUSG00000056602 &  5.350543 & 6.284184 & 1486.931 &  0.000000e+00 &  0.000000e+00\\\\\n\tENSMUSG00000047281 &  5.237488 & 6.123815 & 1530.791 &  0.000000e+00 &  0.000000e+00\\\\\n\tENSMUSG00000035852 &  8.644680 & 5.653218 & 1440.076 & 4.109825e-315 & 2.518388e-312\\\\\n\tENSMUSG00000034282 &  6.795740 & 6.378799 & 1437.408 & 1.561573e-314 & 9.152857e-312\\\\\n\tENSMUSG00000058354 & 13.275243 & 5.329081 & 1436.374 & 2.620381e-314 & 1.471890e-311\\\\\n\tENSMUSG00000000544 & 10.885252 & 5.627749 & 1436.270 & 2.759962e-314 & 1.488282e-311\\\\\n\tENSMUSG00000028435 &  6.233486 & 6.040922 & 1430.831 & 4.196099e-313 & 2.175677e-310\\\\\n\tENSMUSG00000087166 & 10.270359 & 6.647789 & 1402.869 & 5.000329e-307 & 2.496646e-304\\\\\n\tENSMUSG00000031995 &  5.984345 & 6.391365 & 1350.915 & 9.746620e-296 & 4.692649e-293\\\\\n\tENSMUSG00000039269 & 12.668181 & 4.726550 & 1293.101 & 3.567592e-283 & 1.658438e-280\\\\\n\tENSMUSG00000068876 &  7.535403 & 5.389117 & 1276.390 & 1.527914e-279 & 6.865934e-277\\\\\n\\end{tabular}\n",
            "text/plain": [
              "                   logFC     logCPM   LR       PValue        FDR          \n",
              "ENSMUSG00000035557 11.806160 8.528377 2806.545  0.000000e+00  0.000000e+00\n",
              "ENSMUSG00000102308 11.038127 5.780197 1657.367  0.000000e+00  0.000000e+00\n",
              "ENSMUSG00000092586 10.912516 7.289780 1580.148  0.000000e+00  0.000000e+00\n",
              "ENSMUSG00000049382 10.820563 8.590946 2279.240  0.000000e+00  0.000000e+00\n",
              "ENSMUSG00000044294 10.718822 5.968469 1870.130  0.000000e+00  0.000000e+00\n",
              "ENSMUSG00000047501 10.207945 6.587246 1631.070  0.000000e+00  0.000000e+00\n",
              "ENSMUSG00000041782  9.660380 5.830699 1486.707  0.000000e+00  0.000000e+00\n",
              "ENSMUSG00000048699  9.565425 7.336693 2311.292  0.000000e+00  0.000000e+00\n",
              "ENSMUSG00000045545  9.104124 8.072739 2829.382  0.000000e+00  0.000000e+00\n",
              "ENSMUSG00000020788  8.748579 7.123559 1857.315  0.000000e+00  0.000000e+00\n",
              "ENSMUSG00000044041  8.552573 5.995260 1615.544  0.000000e+00  0.000000e+00\n",
              "ENSMUSG00000022218  8.421466 6.269804 1843.577  0.000000e+00  0.000000e+00\n",
              "ENSMUSG00000025608  8.277321 8.175722 2085.549  0.000000e+00  0.000000e+00\n",
              "ENSMUSG00000061126  8.130799 6.734282 1687.469  0.000000e+00  0.000000e+00\n",
              "ENSMUSG00000053797  7.965302 7.283232 2320.212  0.000000e+00  0.000000e+00\n",
              "ENSMUSG00000047586  7.402758 7.305258 1784.272  0.000000e+00  0.000000e+00\n",
              "ENSMUSG00000060716  6.741163 5.817619 1514.713  0.000000e+00  0.000000e+00\n",
              "ENSMUSG00000000303  5.822747 7.534880 1513.446  0.000000e+00  0.000000e+00\n",
              "ENSMUSG00000030693  5.414754 6.397681 1654.344  0.000000e+00  0.000000e+00\n",
              "ENSMUSG00000056602  5.350543 6.284184 1486.931  0.000000e+00  0.000000e+00\n",
              "ENSMUSG00000047281  5.237488 6.123815 1530.791  0.000000e+00  0.000000e+00\n",
              "ENSMUSG00000035852  8.644680 5.653218 1440.076 4.109825e-315 2.518388e-312\n",
              "ENSMUSG00000034282  6.795740 6.378799 1437.408 1.561573e-314 9.152857e-312\n",
              "ENSMUSG00000058354 13.275243 5.329081 1436.374 2.620381e-314 1.471890e-311\n",
              "ENSMUSG00000000544 10.885252 5.627749 1436.270 2.759962e-314 1.488282e-311\n",
              "ENSMUSG00000028435  6.233486 6.040922 1430.831 4.196099e-313 2.175677e-310\n",
              "ENSMUSG00000087166 10.270359 6.647789 1402.869 5.000329e-307 2.496646e-304\n",
              "ENSMUSG00000031995  5.984345 6.391365 1350.915 9.746620e-296 4.692649e-293\n",
              "ENSMUSG00000039269 12.668181 4.726550 1293.101 3.567592e-283 1.658438e-280\n",
              "ENSMUSG00000068876  7.535403 5.389117 1276.390 1.527914e-279 6.865934e-277"
            ]
          },
          "metadata": {}
        }
      ]
    },
    {
      "cell_type": "code",
      "source": [
        "write.csv(topTags(lrt, n = Inf)$table, file=\"de_results.csv\")"
      ],
      "metadata": {
        "id": "_ZZ_qTAR4oYK"
      },
      "execution_count": 35,
      "outputs": []
    },
    {
      "cell_type": "code",
      "source": [
        "summary(decideTestsDGE(lrt))"
      ],
      "metadata": {
        "colab": {
          "base_uri": "https://localhost:8080/",
          "height": 86
        },
        "id": "OUOVarI_hj4w",
        "outputId": "b0038e8a-d23e-4d20-b4c5-e5ace7c1726a"
      },
      "execution_count": 41,
      "outputs": [
        {
          "output_type": "display_data",
          "data": {
            "text/plain": [
              "       reprog\n",
              "Down     4040\n",
              "NotSig   5185\n",
              "Up       4256"
            ]
          },
          "metadata": {}
        }
      ]
    }
  ]
}